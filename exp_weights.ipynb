{
 "cells": [
  {
   "cell_type": "code",
   "execution_count": 1,
   "id": "3f4ae146-6a30-41b7-b660-1ecb7bdc26a1",
   "metadata": {},
   "outputs": [],
   "source": [
    "import numpy as np\n",
    "import matplotlib.pyplot as plt\n",
    "from sklearn.linear_model import LinearRegression"
   ]
  },
  {
   "cell_type": "code",
   "execution_count": 2,
   "id": "e5e548e0-9b6c-438a-8dbb-2c8438af39a9",
   "metadata": {},
   "outputs": [],
   "source": [
    "## Load and preprocess data\n",
    "X = np.genfromtxt(\"data/adult.csv\", dtype=int, delimiter=\",\", skip_header=1)\n",
    "dataset = 'Adult'\n",
    "label = [-1]\n",
    "#sens_atts = [9,12]\n",
    "sens_atts = [8]\n",
    "Y = X[:, label].ravel()\n",
    "Z = X[:, sens_atts].ravel()\n",
    "# Modify X and perform train-test split\n",
    "X = np.delete(X, sens_atts + label, 1)"
   ]
  },
  {
   "cell_type": "code",
   "execution_count": 3,
   "id": "98b7a0aa-2942-47e7-b900-76f63d9d9721",
   "metadata": {},
   "outputs": [],
   "source": [
    "def oracle(x,y,z,lam,tau):\n",
    "    weights = [(1/len(z[z==group]))*lam[group] for group in np.unique(z)]\n",
    "    weight_array = np.array([weights[elem] for elem in z]).ravel()\n",
    "    prc = LinearRegression().fit(x, 1-2*y, sample_weight=weight_array)\n",
    "    tau = np.dot(tau,lam)\n",
    "    prc.intercept_ = prc.intercept_ - tau*np.linalg.norm(prc.coef_)\n",
    "    return prc"
   ]
  },
  {
   "cell_type": "code",
   "execution_count": 4,
   "id": "1b3f47f9-8d1c-4a8b-b1ea-d376bf9f9a5c",
   "metadata": {},
   "outputs": [],
   "source": [
    "#pythonify this. test that it is working with smaller input.\n",
    "def strat_response(x,z, prc, tau):\n",
    "    dist = np.array([np.abs(np.dot(prc.coef_,elem) + prc.intercept_)/np.linalg.norm(prc.coef_) for elem in x])\n",
    "    move = np.array([(dist < tau[elem]) for elem in z]).ravel()\n",
    "    strat_x = np.array([(elem + tau[z[i]]*(prc.coef_/np.linalg.norm(prc.coef_))) if move[i] else elem for i, elem in enumerate(x)])\n",
    "    return strat_x"
   ]
  },
  {
   "cell_type": "code",
   "execution_count": 5,
   "id": "2729f7e9-cc6a-4a7c-9c04-597ef92ca2ad",
   "metadata": {},
   "outputs": [],
   "source": [
    "def group_loss(x,y,z,prc,tau):\n",
    "    x_strat = strat_response(x,z,prc,tau)\n",
    "    y_pred = (np.dot(x_strat, prc.coef_) + prc.intercept_)<0\n",
    "    group_loss = np.array([np.mean(y.reshape(-1,1)[z==group]!=y_pred.reshape(-1,1)[z==group]) for group in np.unique(z)])\n",
    "    return group_loss"
   ]
  },
  {
   "cell_type": "code",
   "execution_count": 6,
   "id": "5d4a7e6c-34e6-41ef-9722-fb362a34d063",
   "metadata": {},
   "outputs": [],
   "source": [
    "def game(x,y,z,tau,T):\n",
    "    h_list = []\n",
    "    lam = np.array([len(z[z==group])/len(z) for group in np.unique(z)])\n",
    "    print(lam)\n",
    "    for t in range(1,T):\n",
    "        eta = 1/np.sqrt(t)\n",
    "        h_list.append(oracle(x,y,z,lam,tau))\n",
    "        lam *= np.exp(eta*group_loss(x,y,z,h_list[-1],tau))\n",
    "        lam /= np.sum(lam)\n",
    "        if t%20 == 0:\n",
    "            print(\"Group Losses: \")\n",
    "            print(group_loss(x,y,z,h_list[-1],tau))\n",
    "            print(\"Dual: \")\n",
    "            print(lam)\n",
    "    return h_list"
   ]
  },
  {
   "cell_type": "code",
   "execution_count": 7,
   "id": "35706052-1686-4fb6-8db1-0c2b3cc8c1e8",
   "metadata": {},
   "outputs": [
    {
     "name": "stdout",
     "output_type": "stream",
     "text": [
      "[0.33151796 0.66848204]\n",
      "Group Losses: \n",
      "[0.08850049 0.21454824]\n",
      "Dual: \n",
      "[0.15784364 0.84215636]\n",
      "Group Losses: \n",
      "[0.08880929 0.21344564]\n",
      "Dual: \n",
      "[0.10582205 0.89417795]\n",
      "Group Losses: \n",
      "[0.08973567 0.2130781 ]\n",
      "Dual: \n",
      "[0.07692423 0.92307577]\n",
      "Group Losses: \n",
      "[0.08985919 0.21292496]\n",
      "Dual: \n",
      "[0.05846992 0.94153008]\n"
     ]
    },
    {
     "data": {
      "text/plain": [
       "[LinearRegression(),\n",
       " LinearRegression(),\n",
       " LinearRegression(),\n",
       " LinearRegression(),\n",
       " LinearRegression(),\n",
       " LinearRegression(),\n",
       " LinearRegression(),\n",
       " LinearRegression(),\n",
       " LinearRegression(),\n",
       " LinearRegression(),\n",
       " LinearRegression(),\n",
       " LinearRegression(),\n",
       " LinearRegression(),\n",
       " LinearRegression(),\n",
       " LinearRegression(),\n",
       " LinearRegression(),\n",
       " LinearRegression(),\n",
       " LinearRegression(),\n",
       " LinearRegression(),\n",
       " LinearRegression(),\n",
       " LinearRegression(),\n",
       " LinearRegression(),\n",
       " LinearRegression(),\n",
       " LinearRegression(),\n",
       " LinearRegression(),\n",
       " LinearRegression(),\n",
       " LinearRegression(),\n",
       " LinearRegression(),\n",
       " LinearRegression(),\n",
       " LinearRegression(),\n",
       " LinearRegression(),\n",
       " LinearRegression(),\n",
       " LinearRegression(),\n",
       " LinearRegression(),\n",
       " LinearRegression(),\n",
       " LinearRegression(),\n",
       " LinearRegression(),\n",
       " LinearRegression(),\n",
       " LinearRegression(),\n",
       " LinearRegression(),\n",
       " LinearRegression(),\n",
       " LinearRegression(),\n",
       " LinearRegression(),\n",
       " LinearRegression(),\n",
       " LinearRegression(),\n",
       " LinearRegression(),\n",
       " LinearRegression(),\n",
       " LinearRegression(),\n",
       " LinearRegression(),\n",
       " LinearRegression(),\n",
       " LinearRegression(),\n",
       " LinearRegression(),\n",
       " LinearRegression(),\n",
       " LinearRegression(),\n",
       " LinearRegression(),\n",
       " LinearRegression(),\n",
       " LinearRegression(),\n",
       " LinearRegression(),\n",
       " LinearRegression(),\n",
       " LinearRegression(),\n",
       " LinearRegression(),\n",
       " LinearRegression(),\n",
       " LinearRegression(),\n",
       " LinearRegression(),\n",
       " LinearRegression(),\n",
       " LinearRegression(),\n",
       " LinearRegression(),\n",
       " LinearRegression(),\n",
       " LinearRegression(),\n",
       " LinearRegression(),\n",
       " LinearRegression(),\n",
       " LinearRegression(),\n",
       " LinearRegression(),\n",
       " LinearRegression(),\n",
       " LinearRegression(),\n",
       " LinearRegression(),\n",
       " LinearRegression(),\n",
       " LinearRegression(),\n",
       " LinearRegression(),\n",
       " LinearRegression(),\n",
       " LinearRegression(),\n",
       " LinearRegression(),\n",
       " LinearRegression(),\n",
       " LinearRegression(),\n",
       " LinearRegression(),\n",
       " LinearRegression(),\n",
       " LinearRegression(),\n",
       " LinearRegression(),\n",
       " LinearRegression(),\n",
       " LinearRegression(),\n",
       " LinearRegression(),\n",
       " LinearRegression(),\n",
       " LinearRegression(),\n",
       " LinearRegression(),\n",
       " LinearRegression(),\n",
       " LinearRegression(),\n",
       " LinearRegression(),\n",
       " LinearRegression(),\n",
       " LinearRegression()]"
      ]
     },
     "execution_count": 7,
     "metadata": {},
     "output_type": "execute_result"
    }
   ],
   "source": [
    "game(X,Y,Z, [0.5, 0.2], 100)"
   ]
  }
 ],
 "metadata": {
  "kernelspec": {
   "display_name": "Python 3 (ipykernel)",
   "language": "python",
   "name": "python3"
  },
  "language_info": {
   "codemirror_mode": {
    "name": "ipython",
    "version": 3
   },
   "file_extension": ".py",
   "mimetype": "text/x-python",
   "name": "python",
   "nbconvert_exporter": "python",
   "pygments_lexer": "ipython3",
   "version": "3.9.6"
  }
 },
 "nbformat": 4,
 "nbformat_minor": 5
}
